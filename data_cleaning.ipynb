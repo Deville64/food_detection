{
 "cells": [
  {
   "cell_type": "code",
   "execution_count": 2,
   "id": "e1440c0c-7851-4d37-9c71-ba34f9d005db",
   "metadata": {},
   "outputs": [],
   "source": [
    "import os\n",
    "from difPy import dif\n",
    "from PIL import Image\n",
    "import shutil\n",
    "from os.path import exists\n",
    "import matplotlib.pyplot as plt"
   ]
  },
  {
   "cell_type": "code",
   "execution_count": 35,
   "id": "09878310-e522-4522-ab39-3ebba20fff5d",
   "metadata": {},
   "outputs": [
    {
     "name": "stdout",
     "output_type": "stream",
     "text": [
      "difPy preparing files: [1369/1369] [100%]\n",
      "difPy comparing images: [1368/1368] [100%]\n",
      "Found 172 pair(s) of duplicate/similar image(s) in 230.4861 seconds.\n"
     ]
    },
    {
     "name": "stdin",
     "output_type": "stream",
     "text": [
      "Are you sure you want to delete all lower quality matched images? \n",
      "! This cannot be undone. (y/n) y\n"
     ]
    },
    {
     "name": "stdout",
     "output_type": "stream",
     "text": [
      "\n",
      "Deleted file: /home/loyk/Bureau/Projet/data/pic_copy/278930296_570710314174866_7740826357419447639_n.webp\n",
      "Deleted file: /home/loyk/Bureau/Projet/data/pic_copy/284456695_566972998115626_8208538235372107800_n.webp\n",
      "Deleted file: /home/loyk/Bureau/Projet/data/pic_copy/277917437_963800744332535_4892536041539553338_n.webp\n",
      "Deleted file: /home/loyk/Bureau/Projet/data/pic_copy/285042832_543582273876607_3816078474905704015_n.webp\n",
      "Deleted file: /home/loyk/Bureau/Projet/data/pic_copy/278566987_521291016051087_4790144920668618633_n.webp\n",
      "Deleted file: /home/loyk/Bureau/Projet/data/pic_copy/healthfullyfoods478.jpg\n",
      "Deleted file: /home/loyk/Bureau/Projet/data/pic_copy/277122495_2818717788434900_118877835277307763_n.webp\n",
      "Deleted file: /home/loyk/Bureau/Projet/data/pic_copy/275847383_1614671522259137_6188054512507280420_n.webp\n",
      "Deleted file: /home/loyk/Bureau/Projet/data/pic_copy/279812309_466916105227106_7367762678922900852_n.webp\n",
      "Deleted file: /home/loyk/Bureau/Projet/data/pic_copy/275575908_5072188586178046_6667724219638067203_n.webp\n",
      "Deleted file: /home/loyk/Bureau/Projet/data/pic_copy/274377170_361676915565986_5698174135125933750_n.webp\n",
      "Deleted file: /home/loyk/Bureau/Projet/data/pic_copy/276107725_3198331547112731_8374170593759548225_n.webp\n",
      "Deleted file: /home/loyk/Bureau/Projet/data/pic_copy/279595022_382617107084706_5472380915079481654_n.webp\n",
      "Deleted file: /home/loyk/Bureau/Projet/data/pic_copy/277140744_3213560918964467_5977189149150293934_n.webp\n",
      "Deleted file: /home/loyk/Bureau/Projet/data/pic_copy/277965580_470182054863735_7687569758827721079_n.webp\n",
      "Deleted file: /home/loyk/Bureau/Projet/data/pic_copy/279189173_1037643943834746_1994424761037292059_n.webp\n",
      "Deleted file: /home/loyk/Bureau/Projet/data/pic_copy/277924363_1209334346568106_5297260560648890650_n.webp\n",
      "Deleted file: /home/loyk/Bureau/Projet/data/pic_copy/278506712_1352606478547580_1410449644815463926_n.webp\n",
      "Deleted file: /home/loyk/Bureau/Projet/data/pic_copy/healthfullyfoods52.jpg\n",
      "Deleted file: /home/loyk/Bureau/Projet/data/pic_copy/278484845_689294682278438_7975753018057936468_n.webp\n",
      "Deleted file: /home/loyk/Bureau/Projet/data/pic_copy/277291914_154154277021190_693790638085810524_n.webp\n",
      "Deleted file: /home/loyk/Bureau/Projet/data/pic_copy/healthfullyfoods601.jpg\n",
      "Deleted file: /home/loyk/Bureau/Projet/data/pic_copy/277964733_2754685131506099_8519603278691357158_n.webp\n",
      "Deleted file: /home/loyk/Bureau/Projet/data/pic_copy/277580022_5202678213130425_6111073149326777125_n.webp\n",
      "Deleted file: /home/loyk/Bureau/Projet/data/pic_copy/277292442_651777109431637_1334196585416598549_n.webp\n",
      "Deleted file: /home/loyk/Bureau/Projet/data/pic_copy/276127760_680164506736928_8750797718326183329_n.webp\n",
      "Deleted file: /home/loyk/Bureau/Projet/data/pic_copy/277854250_1677552479248270_5461752581345863310_n.webp\n",
      "Deleted file: /home/loyk/Bureau/Projet/data/pic_copy/279042887_338754814932029_5160590991431062389_n.webp\n",
      "Deleted file: /home/loyk/Bureau/Projet/data/pic_copy/278951515_1184444472388009_4667273596822255428_n.webp\n",
      "Deleted file: /home/loyk/Bureau/Projet/data/pic_copy/280187125_548464726874585_113027915873840449_n.webp\n",
      "Deleted file: /home/loyk/Bureau/Projet/data/pic_copy/278468296_1378342466015105_1871860499886084243_n.webp\n",
      "Deleted file: /home/loyk/Bureau/Projet/data/pic_copy/280493886_777851126532963_5081404893746193474_n.webp\n",
      "Deleted file: /home/loyk/Bureau/Projet/data/pic_copy/285360718_574236357607274_7200967161160134686_n.webp\n",
      "Deleted file: /home/loyk/Bureau/Projet/data/pic_copy/278284108_721964332162632_6967225038365473280_n.webp\n",
      "Deleted file: /home/loyk/Bureau/Projet/data/pic_copy/healthfullyfoods565.jpg\n",
      "Deleted file: /home/loyk/Bureau/Projet/data/pic_copy/275835178_690618498638866_9180760964765711824_n.webp\n",
      "Deleted file: /home/loyk/Bureau/Projet/data/pic_copy/275320645_155664050222000_4437991884511051495_n.webp\n",
      "Deleted file: /home/loyk/Bureau/Projet/data/pic_copy/277702208_659518615158346_9071994686080726800_n.webp\n",
      "Deleted file: /home/loyk/Bureau/Projet/data/pic_copy/278284108_118022550848497_2821066517167369666_n.webp\n",
      "Deleted file: /home/loyk/Bureau/Projet/data/pic_copy/275543565_283099913943149_6190589565050516157_n.webp\n",
      "Deleted file: /home/loyk/Bureau/Projet/data/pic_copy/277241566_529865462047473_7704157827201200704_n.webp\n",
      "Deleted file: /home/loyk/Bureau/Projet/data/pic_copy/277805043_274030384794126_3116207494354825651_n.webp\n",
      "Deleted file: /home/loyk/Bureau/Projet/data/pic_copy/278570210_160923553039630_6598150666830145267_n.webp\n",
      "Deleted file: /home/loyk/Bureau/Projet/data/pic_copy/277375811_5275047255868463_4598802126023506588_n.webp\n",
      "Deleted file: /home/loyk/Bureau/Projet/data/pic_copy/280035218_1427143251080483_3068655814713834096_n.webp\n",
      "Deleted file: /home/loyk/Bureau/Projet/data/pic_copy/277836976_1073374713520049_1723084398231313366_n.webp\n",
      "Deleted file: /home/loyk/Bureau/Projet/data/pic_copy/275787340_102206749073483_201738754922074031_n.webp\n",
      "Deleted file: /home/loyk/Bureau/Projet/data/pic_copy/283653087_3122815484635624_6502180964998999807_n.webp\n",
      "Deleted file: /home/loyk/Bureau/Projet/data/pic_copy/274680006_657114855603889_1714337673144482508_n.webp\n",
      "Deleted file: /home/loyk/Bureau/Projet/data/pic_copy/277816208_1285111802014213_5025419667452381500_n.webp\n",
      "Deleted file: /home/loyk/Bureau/Projet/data/pic_copy/278561766_616717699444805_2554437584474001607_n.webp\n",
      "Deleted file: /home/loyk/Bureau/Projet/data/pic_copy/278519170_509947660776340_5093526487458724544_n.webp\n",
      "Deleted file: /home/loyk/Bureau/Projet/data/pic_copy/276978162_422652352957774_1414418077384101124_n.webp\n",
      "Deleted file: /home/loyk/Bureau/Projet/data/pic_copy/279016169_739612630373154_7213941331354461069_n.webp\n",
      "Deleted file: /home/loyk/Bureau/Projet/data/pic_copy/279018661_415495780038278_5426724959200109973_n.webp\n",
      "Deleted file: /home/loyk/Bureau/Projet/data/pic_copy/275351402_493503252446037_8722678777239877331_n.webp\n",
      "Deleted file: /home/loyk/Bureau/Projet/data/pic_copy/279598588_415180106669627_5668631458195555924_n.webp\n",
      "Deleted file: /home/loyk/Bureau/Projet/data/pic_copy/277031154_338967784919674_5992800607697003530_n.webp\n",
      "Deleted file: /home/loyk/Bureau/Projet/data/pic_copy/277908848_507443704251931_5819344116078837_n.webp\n",
      "Deleted file: /home/loyk/Bureau/Projet/data/pic_copy/275465105_708952456944488_4747913991476730923_n.webp\n",
      "Deleted file: /home/loyk/Bureau/Projet/data/pic_copy/284931311_507720901087975_779605727306449418_n.webp\n",
      "Deleted file: /home/loyk/Bureau/Projet/data/pic_copy/277843308_174671324895980_5852812944760255641_n.webp\n",
      "Deleted file: /home/loyk/Bureau/Projet/data/pic_copy/278110582_845292553534084_3872254996667283373_n.webp\n",
      "Deleted file: /home/loyk/Bureau/Projet/data/pic_copy/275857054_679604696518732_7899714876718612190_n.webp\n",
      "Deleted file: /home/loyk/Bureau/Projet/data/pic_copy/278010020_345573030966466_3433179609465912827_n.webp\n",
      "Deleted file: /home/loyk/Bureau/Projet/data/pic_copy/275846252_522899569264274_7190331603380442311_n.webp\n",
      "Deleted file: /home/loyk/Bureau/Projet/data/pic_copy/275797810_533539754767503_7192039068163987909_n.webp\n",
      "Deleted file: /home/loyk/Bureau/Projet/data/pic_copy/275161541_4775875769194229_3918619445674547054_n.webp\n",
      "Deleted file: /home/loyk/Bureau/Projet/data/pic_copy/274551751_2167313280085602_1928586794705445583_n.webp\n",
      "Deleted file: /home/loyk/Bureau/Projet/data/pic_copy/275817569_1437342743348784_650760227639237484_n.webp\n",
      "Deleted file: /home/loyk/Bureau/Projet/data/pic_copy/279197830_320214740195756_4609349584943057266_n.webp\n",
      "Deleted file: /home/loyk/Bureau/Projet/data/pic_copy/283639337_699271581330713_2631970651532675932_n.webp\n",
      "Deleted file: /home/loyk/Bureau/Projet/data/pic_copy/277976441_417738563447037_1658978036703739006_n.webp\n",
      "Deleted file: /home/loyk/Bureau/Projet/data/pic_copy/277890817_4994516590633797_8462224282694898361_n.webp\n",
      "Deleted file: /home/loyk/Bureau/Projet/data/pic_copy/278177342_399325425345926_9178000177938685542_n.webp\n",
      "Deleted file: /home/loyk/Bureau/Projet/data/pic_copy/279904664_142666221659572_6515371548269885520_n.webp\n",
      "Deleted file: /home/loyk/Bureau/Projet/data/pic_copy/healthfullyfoods67.jpg\n",
      "Deleted file: /home/loyk/Bureau/Projet/data/pic_copy/279076844_1734751753542477_5989576528357454236_n.webp\n",
      "Deleted file: /home/loyk/Bureau/Projet/data/pic_copy/278056116_1143184143125690_5353946774885065634_n.webp\n",
      "Deleted file: /home/loyk/Bureau/Projet/data/pic_copy/279930095_150237037528023_7208953050417556860_n.webp\n",
      "Deleted file: /home/loyk/Bureau/Projet/data/pic_copy/275653835_1867691386763528_8912420899066532876_n.webp\n",
      "Deleted file: /home/loyk/Bureau/Projet/data/pic_copy/283543922_578012223682146_34515763563576134_n.webp\n",
      "Deleted file: /home/loyk/Bureau/Projet/data/pic_copy/280611185_736784097347941_8746324814694057078_n.webp\n",
      "Deleted file: /home/loyk/Bureau/Projet/data/pic_copy/278284628_307510518180394_3951226631488363586_n.webp\n",
      "Deleted file: /home/loyk/Bureau/Projet/data/pic_copy/277819813_699005184462099_6177987056367357797_n.webp\n",
      "Deleted file: /home/loyk/Bureau/Projet/data/pic_copy/277802268_294655196161354_6744360963190019855_n.webp\n",
      "Deleted file: /home/loyk/Bureau/Projet/data/pic_copy/275713933_466076058645969_7927279962700186197_n.webp\n",
      "Deleted file: /home/loyk/Bureau/Projet/data/pic_copy/279009190_671417394089042_2149584019934046332_n.webp\n",
      "Deleted file: /home/loyk/Bureau/Projet/data/pic_copy/280666253_539900707642857_3272936516041302075_n.webp\n",
      "Deleted file: /home/loyk/Bureau/Projet/data/pic_copy/278782201_397757085688419_5256783992759753783_n.webp\n",
      "Deleted file: /home/loyk/Bureau/Projet/data/pic_copy/279218565_344233834467090_2722870889997925009_n.webp\n",
      "Deleted file: /home/loyk/Bureau/Projet/data/pic_copy/278407552_372088618149549_5171226963283371006_n.webp\n",
      "Deleted file: /home/loyk/Bureau/Projet/data/pic_copy/277987742_151585330658948_3577602304385280119_n.webp\n",
      "Deleted file: /home/loyk/Bureau/Projet/data/pic_copy/276062760_953436755338837_4969083281844474216_n.webp\n",
      "Deleted file: /home/loyk/Bureau/Projet/data/pic_copy/278727677_997246410911539_8778528096627274608_n.webp\n",
      "Deleted file: /home/loyk/Bureau/Projet/data/pic_copy/280624737_746364226534960_3952670492644175489_n.webp\n",
      "Deleted file: /home/loyk/Bureau/Projet/data/pic_copy/275280920_930092810972604_4616533713491140950_n.webp\n",
      "Deleted file: /home/loyk/Bureau/Projet/data/pic_copy/279130872_1252328701838593_4963008452818092890_n.webp\n",
      "Deleted file: /home/loyk/Bureau/Projet/data/pic_copy/275172874_928570714523385_5204296095642311081_n.webp\n",
      "Deleted file: /home/loyk/Bureau/Projet/data/pic_copy/279752873_693413461870499_6141564276215041374_n.webp\n",
      "Deleted file: /home/loyk/Bureau/Projet/data/pic_copy/277809879_831731221080542_6667370809003041350_n.webp\n",
      "Deleted file: /home/loyk/Bureau/Projet/data/pic_copy/275141246_154539696966679_2354029341172469091_n.webp\n",
      "Deleted file: /home/loyk/Bureau/Projet/data/pic_copy/276325386_504221771103767_6993711369596087453_n.webp\n",
      "Deleted file: /home/loyk/Bureau/Projet/data/pic_copy/277361686_500580545119944_6983574113981433202_n.webp\n",
      "Deleted file: /home/loyk/Bureau/Projet/data/pic_copy/277972538_4978261975589074_4851200228935006060_n.webp\n",
      "Deleted file: /home/loyk/Bureau/Projet/data/pic_copy/275892329_2862997170658964_1723425253286193657_n.webp\n",
      "Deleted file: /home/loyk/Bureau/Projet/data/pic_copy/278964115_664671457945273_4936080274295998042_n.webp\n",
      "Deleted file: /home/loyk/Bureau/Projet/data/pic_copy/277905007_350539090435374_340679334494207201_n.webp\n",
      "Deleted file: /home/loyk/Bureau/Projet/data/pic_copy/275701019_493052465608994_3637199771840442525_n.webp\n",
      "Deleted file: /home/loyk/Bureau/Projet/data/pic_copy/277814661_2166794673488858_5921891079004947141_n.webp\n",
      "Deleted file: /home/loyk/Bureau/Projet/data/pic_copy/275540866_750500129255506_2544351908267981358_n.webp\n",
      "Deleted file: /home/loyk/Bureau/Projet/data/pic_copy/275101946_647708043157006_4216293747806876384_n.webp\n",
      "Deleted file: /home/loyk/Bureau/Projet/data/pic_copy/277359109_683636156121695_5520170347983408113_n.webp\n",
      "Deleted file: /home/loyk/Bureau/Projet/data/pic_copy/278599830_1096682647556076_5248454084124923757_n.webp\n",
      "Deleted file: /home/loyk/Bureau/Projet/data/pic_copy/277980529_1040092123258105_481616405515148451_n.webp\n",
      "Deleted file: /home/loyk/Bureau/Projet/data/pic_copy/278902239_1033025057651826_9110667706861583009_n.webp\n",
      "Deleted file: /home/loyk/Bureau/Projet/data/pic_copy/275520107_285803900333578_8500606741674069020_n.webp\n",
      "Deleted file: /home/loyk/Bureau/Projet/data/pic_copy/278524856_1179250956244434_7942175929463064251_n.webp\n",
      "Deleted file: /home/loyk/Bureau/Projet/data/pic_copy/healthfullyfoods176.jpg\n",
      "Deleted file: /home/loyk/Bureau/Projet/data/pic_copy/279138211_686826689042132_2101301921092634529_n.webp\n",
      "Deleted file: /home/loyk/Bureau/Projet/data/pic_copy/278127338_3155684424642922_6754787563309847050_n.webp\n",
      "Deleted file: /home/loyk/Bureau/Projet/data/pic_copy/278886210_1189301708480393_4449146945854873755_n.webp\n",
      "Deleted file: /home/loyk/Bureau/Projet/data/pic_copy/278466530_1112756709515284_7416821802656159298_n.webp\n",
      "Deleted file: /home/loyk/Bureau/Projet/data/pic_copy/281649489_743680069980707_1458612579245988861_n.webp\n",
      "Deleted file: /home/loyk/Bureau/Projet/data/pic_copy/277932813_651745959237739_7229845251915749995_n.webp\n",
      "Deleted file: /home/loyk/Bureau/Projet/data/pic_copy/279232759_151028490744530_3042243801687952242_n.webp\n",
      "Deleted file: /home/loyk/Bureau/Projet/data/pic_copy/283109919_2014821798721063_1916794683664537070_n.webp\n",
      "Deleted file: /home/loyk/Bureau/Projet/data/pic_copy/277972119_510284463886356_6536948610056862209_n.webp\n",
      "Deleted file: /home/loyk/Bureau/Projet/data/pic_copy/277703174_396569152468984_7292661815912301916_n.webp\n",
      "Deleted file: /home/loyk/Bureau/Projet/data/pic_copy/277030324_497748805188628_1994406892049445776_n.webp\n",
      "Deleted file: /home/loyk/Bureau/Projet/data/pic_copy/280602212_1023625941862384_4181394148790224676_n.webp\n",
      "Deleted file: /home/loyk/Bureau/Projet/data/pic_copy/278650052_405324317675760_44545322524152370_n.webp\n",
      "Deleted file: /home/loyk/Bureau/Projet/data/pic_copy/280528363_981065929230180_7789651480510252335_n.webp\n",
      "Deleted file: /home/loyk/Bureau/Projet/data/pic_copy/283428637_115223894395678_8380027528711875879_n.webp\n",
      "Deleted file: /home/loyk/Bureau/Projet/data/pic_copy/healthfullyfoods432.jpg\n",
      "Deleted file: /home/loyk/Bureau/Projet/data/pic_copy/277047327_996240374330381_3606599767374084701_n.webp\n",
      "Deleted file: /home/loyk/Bureau/Projet/data/pic_copy/283316025_385358433645881_1942120009014236102_n.webp\n",
      "Deleted file: /home/loyk/Bureau/Projet/data/pic_copy/278394967_660085938408880_1128333980544417206_n.webp\n",
      "Deleted file: /home/loyk/Bureau/Projet/data/pic_copy/277395851_497609688639580_6813687477317677586_n.webp\n",
      "Deleted file: /home/loyk/Bureau/Projet/data/pic_copy/278710553_675773643675153_1856944168636326611_n.webp\n",
      "Deleted file: /home/loyk/Bureau/Projet/data/pic_copy/282020555_3161711404092396_3299554560928784960_n.webp\n",
      "Deleted file: /home/loyk/Bureau/Projet/data/pic_copy/277327626_158578599885604_7762869720676232869_n.webp\n",
      "Deleted file: /home/loyk/Bureau/Projet/data/pic_copy/275137764_480986710186610_6567845320214502858_n.webp\n",
      "Deleted file: /home/loyk/Bureau/Projet/data/pic_copy/280073605_551545979744476_8705450719399814711_n.webp\n",
      "Deleted file: /home/loyk/Bureau/Projet/data/pic_copy/278990937_713992646409792_5355063334463631529_n.webp\n",
      "Deleted file: /home/loyk/Bureau/Projet/data/pic_copy/279386927_998002867516325_2124993548868260022_n.webp\n",
      "Deleted file: /home/loyk/Bureau/Projet/data/pic_copy/278549230_167843575667728_1472632055042794415_n.webp\n",
      "Deleted file: /home/loyk/Bureau/Projet/data/pic_copy/279514799_1480963508966967_4613984522600856463_n.webp\n",
      "Deleted file: /home/loyk/Bureau/Projet/data/pic_copy/278125863_515408326970426_6543303775103703772_n.webp\n",
      "Deleted file: /home/loyk/Bureau/Projet/data/pic_copy/278395192_998597660853333_7251695438584481482_n.webp\n",
      "Deleted file: /home/loyk/Bureau/Projet/data/pic_copy/healthfullyfoods590.jpg\n",
      "Deleted file: /home/loyk/Bureau/Projet/data/pic_copy/275718228_1768814669978713_4284262870729938324_n.webp\n",
      "Deleted file: /home/loyk/Bureau/Projet/data/pic_copy/277620237_5119579958088474_2148340714046021898_n.webp\n",
      "Deleted file: /home/loyk/Bureau/Projet/data/pic_copy/279334596_172897925087817_4052411610133608331_n.webp\n",
      "Deleted file: /home/loyk/Bureau/Projet/data/pic_copy/278482112_1174052080007404_6431319560481374608_n.webp\n",
      "Deleted file: /home/loyk/Bureau/Projet/data/pic_copy/278960332_311180691162326_1643810372955571940_n.webp\n",
      "Deleted file: /home/loyk/Bureau/Projet/data/pic_copy/279142978_302241038733648_322583948930804880_n.webp\n",
      "Deleted file: /home/loyk/Bureau/Projet/data/pic_copy/277999259_1303302566745825_7027548107501276975_n.webp\n",
      "Deleted file: /home/loyk/Bureau/Projet/data/pic_copy/275263065_387530236057792_237856805197857236_n.webp\n",
      "Deleted file: /home/loyk/Bureau/Projet/data/pic_copy/healthfullyfoods33.jpg\n",
      "Deleted file: /home/loyk/Bureau/Projet/data/pic_copy/274783061_3146373868976642_2364033904161984373_n.webp\n",
      "Deleted file: /home/loyk/Bureau/Projet/data/pic_copy/284427957_1151987108707172_3076119759266940132_n.webp\n",
      "Deleted file: /home/loyk/Bureau/Projet/data/pic_copy/277038837_506202327888115_1432501521787169615_n.webp\n",
      "Deleted file: /home/loyk/Bureau/Projet/data/pic_copy/279058926_391764662612189_9121102492664608765_n.webp\n",
      "Deleted file: /home/loyk/Bureau/Projet/data/pic_copy/278353521_244750167807619_465271019371337544_n.webp\n",
      "Deleted file: /home/loyk/Bureau/Projet/data/pic_copy/283829582_714363046381648_3714681422561272244_n.webp\n",
      "Deleted file: /home/loyk/Bureau/Projet/data/pic_copy/274631473_124499260129808_3862328831463708233_n.webp\n",
      "Deleted file: /home/loyk/Bureau/Projet/data/pic_copy/277856969_117489140743677_4792805012719618907_n.webp\n",
      "Deleted file: /home/loyk/Bureau/Projet/data/pic_copy/277044697_696778548403133_1626374674471565762_n.webp\n",
      "Deleted file: /home/loyk/Bureau/Projet/data/pic_copy/277973978_399866654901044_2429424405668345453_n.webp\n",
      "Deleted file: /home/loyk/Bureau/Projet/data/pic_copy/277905326_236404552009846_135341934465705517_n.webp\n",
      "***\n",
      "Deleted 172 image file(s).\n",
      "difPy preparing files: [1198/1198] [100%]\n",
      "difPy comparing images: [1197/1197] [100%]\n",
      "Found 78 pair(s) of duplicate/similar image(s) in 183.1095 seconds.\n"
     ]
    },
    {
     "name": "stdin",
     "output_type": "stream",
     "text": [
      "Are you sure you want to delete all lower quality matched images? \n",
      "! This cannot be undone. (y/n) y\n"
     ]
    },
    {
     "name": "stdout",
     "output_type": "stream",
     "text": [
      "\n",
      "Deleted file: /home/loyk/Bureau/Projet/data/pic_copy/277924696_368200721853727_8296739274656253392_n.webp\n",
      "Deleted file: /home/loyk/Bureau/Projet/data/pic_copy/275424100_1368602796897934_3517635484214171210_n.webp\n",
      "Deleted file: /home/loyk/Bureau/Projet/data/pic_copy/281564518_545058340342813_8431226362015950516_n.webp\n",
      "Deleted file: /home/loyk/Bureau/Projet/data/pic_copy/277417268_688440459274662_3091310594184003305_n.webp\n",
      "Deleted file: /home/loyk/Bureau/Projet/data/pic_copy/277591187_369805848357520_7315751618087689557_n.webp\n",
      "Deleted file: /home/loyk/Bureau/Projet/data/pic_copy/275829306_1163526087725341_7160123436436785342_n.webp\n",
      "Deleted file: /home/loyk/Bureau/Projet/data/pic_copy/274879275_478115820623126_4122563532881260565_n.webp\n",
      "Deleted file: /home/loyk/Bureau/Projet/data/pic_copy/277940321_698037308183696_4828283341223055703_n.webp\n",
      "Deleted file: /home/loyk/Bureau/Projet/data/pic_copy/280217243_5157542570958775_3830558435960277445_n.webp\n",
      "Deleted file: /home/loyk/Bureau/Projet/data/pic_copy/278881958_304280565116522_648618990659100125_n.webp\n",
      "Deleted file: /home/loyk/Bureau/Projet/data/pic_copy/278267592_1118428692067339_8226962456708215049_n.webp\n",
      "Deleted file: /home/loyk/Bureau/Projet/data/pic_copy/healthfullyfoods566.jpg\n",
      "Deleted file: /home/loyk/Bureau/Projet/data/pic_copy/278400165_1213777869160949_94952715452821835_n.webp\n",
      "Deleted file: /home/loyk/Bureau/Projet/data/pic_copy/278551078_514929520096892_9104297544421144765_n.webp\n",
      "Deleted file: /home/loyk/Bureau/Projet/data/pic_copy/277896605_134537975793311_7368810719813476019_n.webp\n",
      "Deleted file: /home/loyk/Bureau/Projet/data/pic_copy/275779245_386065226674207_921523168478300985_n.webp\n",
      "Deleted file: /home/loyk/Bureau/Projet/data/pic_copy/healthfullyfoods63.jpg\n",
      "Deleted file: /home/loyk/Bureau/Projet/data/pic_copy/283685745_746328916560148_59177850529480440_n.webp\n",
      "Deleted file: /home/loyk/Bureau/Projet/data/pic_copy/276083872_677955313631339_9067507642508402939_n.webp\n",
      "Deleted file: /home/loyk/Bureau/Projet/data/pic_copy/275746845_927333411311900_6072664559843863488_n.webp\n",
      "Deleted file: /home/loyk/Bureau/Projet/data/pic_copy/healthfullyfoods528.jpg\n",
      "Deleted file: /home/loyk/Bureau/Projet/data/pic_copy/275123009_717008375962220_8110310438427969196_n.webp\n",
      "Deleted file: /home/loyk/Bureau/Projet/data/pic_copy/277855287_427139759227862_1821941395171848286_n.webp\n",
      "Deleted file: /home/loyk/Bureau/Projet/data/pic_copy/278816657_1027195921554242_2016298154543360449_n.webp\n",
      "Deleted file: /home/loyk/Bureau/Projet/data/pic_copy/274647202_528060091957767_1412401905661913768_n.webp\n",
      "Deleted file: /home/loyk/Bureau/Projet/data/pic_copy/275652953_240561491618060_200205125488594657_n.webp\n",
      "Deleted file: /home/loyk/Bureau/Projet/data/pic_copy/275279536_372509194440523_1238676144467058759_n.webp\n",
      "Deleted file: /home/loyk/Bureau/Projet/data/pic_copy/277420759_514550640110985_7252235160229094555_n.webp\n",
      "Deleted file: /home/loyk/Bureau/Projet/data/pic_copy/275168799_324161369771174_4151118644991062420_n.webp\n",
      "Deleted file: /home/loyk/Bureau/Projet/data/pic_copy/280099252_420727416086596_144419647249723901_n.webp\n",
      "Deleted file: /home/loyk/Bureau/Projet/data/pic_copy/278138732_677470083501047_1676748049885300916_n.webp\n",
      "Deleted file: /home/loyk/Bureau/Projet/data/pic_copy/274485008_133288949199976_9090539187925199991_n.webp\n",
      "Deleted file: /home/loyk/Bureau/Projet/data/pic_copy/277903341_154870040284465_5356929710691462351_n.webp\n",
      "Deleted file: /home/loyk/Bureau/Projet/data/pic_copy/278140120_307196764828633_112734798894747917_n.webp\n",
      "Deleted file: /home/loyk/Bureau/Projet/data/pic_copy/275794202_755235388789856_7697424420878985513_n.webp\n",
      "Deleted file: /home/loyk/Bureau/Projet/data/pic_copy/277416163_134030045829648_7366628629012362528_n.webp\n",
      "Deleted file: /home/loyk/Bureau/Projet/data/pic_copy/275524104_472014207985917_2678590473905163344_n.webp\n",
      "Deleted file: /home/loyk/Bureau/Projet/data/pic_copy/280124649_2593752077428422_8223446689772523219_n.webp\n",
      "Deleted file: /home/loyk/Bureau/Projet/data/pic_copy/277029471_344822404278580_9074591113333867986_n.webp\n",
      "Deleted file: /home/loyk/Bureau/Projet/data/pic_copy/277416578_270174838640448_95901775388759419_n.webp\n",
      "Deleted file: /home/loyk/Bureau/Projet/data/pic_copy/278256188_500458891740478_7647820128341496858_n.webp\n",
      "Deleted file: /home/loyk/Bureau/Projet/data/pic_copy/277479041_161983276192984_2036197574501598357_n.webp\n",
      "Deleted file: /home/loyk/Bureau/Projet/data/pic_copy/healthfullyfoods365.jpg\n",
      "Deleted file: /home/loyk/Bureau/Projet/data/pic_copy/278961428_366099458783599_35361380297946720_n.webp\n",
      "Deleted file: /home/loyk/Bureau/Projet/data/pic_copy/278109087_344609687493227_1395323677925284330_n.webp\n",
      "Deleted file: /home/loyk/Bureau/Projet/data/pic_copy/275013824_264859755829182_3003222790929624283_n.webp\n",
      "Deleted file: /home/loyk/Bureau/Projet/data/pic_copy/281575431_720033146004615_5859223514109709213_n.webp\n",
      "Deleted file: /home/loyk/Bureau/Projet/data/pic_copy/275631925_1389186601551686_3189348223095504820_n.webp\n",
      "Deleted file: /home/loyk/Bureau/Projet/data/pic_copy/279004504_530108705346618_8556158179391644014_n.webp\n",
      "Deleted file: /home/loyk/Bureau/Projet/data/pic_copy/278660782_503915964655999_5847201448111000818_n.webp\n",
      "Deleted file: /home/loyk/Bureau/Projet/data/pic_copy/277960547_107724611830133_7875707916909682030_n.webp\n",
      "Deleted file: /home/loyk/Bureau/Projet/data/pic_copy/275444825_148288100991689_2016397366854505353_n.webp\n",
      "Deleted file: /home/loyk/Bureau/Projet/data/pic_copy/279189867_1036292773646404_5643954636270713510_n.webp\n",
      "Deleted file: /home/loyk/Bureau/Projet/data/pic_copy/277697829_2869024586724289_6698194388006677239_n.webp\n",
      "Deleted file: /home/loyk/Bureau/Projet/data/pic_copy/279181083_1166545620801639_611097865047383172_n.webp\n",
      "Deleted file: /home/loyk/Bureau/Projet/data/pic_copy/278371862_298709455741008_3443839681421552584_n.webp\n",
      "Deleted file: /home/loyk/Bureau/Projet/data/pic_copy/274900893_286957100212202_4027226002158821563_n.webp\n",
      "Deleted file: /home/loyk/Bureau/Projet/data/pic_copy/274364109_513496873530848_6505517026278610897_n.webp\n",
      "Deleted file: /home/loyk/Bureau/Projet/data/pic_copy/277328205_171674715202611_8788285979575104771_n.webp\n",
      "Deleted file: /home/loyk/Bureau/Projet/data/pic_copy/280954936_1871033723101221_6175074535596928301_n.webp\n",
      "Deleted file: /home/loyk/Bureau/Projet/data/pic_copy/274753370_325350516288409_3144397363331460965_n.webp\n",
      "Deleted file: /home/loyk/Bureau/Projet/data/pic_copy/276973160_3158033687810351_8479728600046504714_n.webp\n",
      "Deleted file: /home/loyk/Bureau/Projet/data/pic_copy/275914065_509355704140253_6819392313169014603_n.webp\n",
      "Deleted file: /home/loyk/Bureau/Projet/data/pic_copy/280317115_691356138863333_8068781692945250273_n.webp\n",
      "Deleted file: /home/loyk/Bureau/Projet/data/pic_copy/274579370_466640591860171_6217426337309659439_n.webp\n",
      "Deleted file: /home/loyk/Bureau/Projet/data/pic_copy/277648768_1023173185264867_4920747096738786432_n.webp\n",
      "Deleted file: /home/loyk/Bureau/Projet/data/pic_copy/280524859_419181996306747_3857121634121132223_n.webp\n",
      "Deleted file: /home/loyk/Bureau/Projet/data/pic_copy/275966602_1163499751090026_4301331632563767212_n.webp\n",
      "Deleted file: /home/loyk/Bureau/Projet/data/pic_copy/280264402_158880356624673_1646213820051739727_n.webp\n",
      "Deleted file: /home/loyk/Bureau/Projet/data/pic_copy/281153142_1162787557876191_5932766705697727488_n.webp\n",
      "Deleted file: /home/loyk/Bureau/Projet/data/pic_copy/healthfullyfoods324.jpg\n",
      "Deleted file: /home/loyk/Bureau/Projet/data/pic_copy/280377363_973354616704519_435326140725978726_n.webp\n",
      "Deleted file: /home/loyk/Bureau/Projet/data/pic_copy/278589091_115815574428997_453709526163491328_n.webp\n",
      "Deleted file: /home/loyk/Bureau/Projet/data/pic_copy/277106881_344435817643855_7944267159376024171_n.webp\n",
      "Deleted file: /home/loyk/Bureau/Projet/data/pic_copy/277111888_1083984572458542_5271914684836117206_n.webp\n",
      "Deleted file: /home/loyk/Bureau/Projet/data/pic_copy/280643149_493359949250596_8952191230372276249_n.webp\n",
      "Deleted file: /home/loyk/Bureau/Projet/data/pic_copy/275902011_2773395872955109_6367522420658189314_n.webp\n",
      "***\n",
      "Deleted 78 image file(s).\n",
      "The file types present are : ['.jpg', '.webp']\n"
     ]
    },
    {
     "name": "stdin",
     "output_type": "stream",
     "text": [
      "Do you want to continue ? (y/n) y\n"
     ]
    },
    {
     "name": "stdout",
     "output_type": "stream",
     "text": [
      "0 .mp4 files were deleted\n",
      "501 .webp files were converted to jpg\n"
     ]
    }
   ],
   "source": [
    "# Cleaning all pictures that were scraped\n",
    "my_file = 'pic'\n",
    "\n",
    "# Delete duplicata\n",
    "dif( f\"/home/loyk/Bureau/Projet/data/{my_file}\", delete = True, show_output=False, similarity=\"normal\")\n",
    "# Delete similar images\n",
    "dif( f\"/home/loyk/Bureau/Projet/data/{my_file}\", delete = True, show_output=False, similarity=\"low\")\n",
    "\n",
    "filename = my_file\n",
    "delete_webp = 0\n",
    "delete_mp4 = 0\n",
    "types = []\n",
    "\n",
    "os.chdir(f\"/home/loyk/Bureau/Projet/data/{my_file}\")\n",
    "\n",
    "# Check files type\n",
    "for count, f in enumerate(os.listdir()):\n",
    "  f_name, f_ext = os.path.splitext(f)\n",
    "\n",
    "  if f_ext not in types:\n",
    "    types.append(f_ext)\n",
    "\n",
    "print(f\"The file types present are : {types}\")\n",
    "answer = input(\"Do you want to continue ? (y/n)\")\n",
    "\n",
    "if answer == 'y':\n",
    "  # Delete videos\n",
    "  for count, f in enumerate(os.listdir()):\n",
    "    f_name, f_ext = os.path.splitext(f)\n",
    "\n",
    "    if f_ext == '.mp4':\n",
    "      os.remove(f)\n",
    "      delete_mp4 += 1\n",
    "\n",
    "  # Convert if necessary and change files name\n",
    "  for count, f in enumerate(os.listdir()):\n",
    "    f_name, f_ext = os.path.splitext(f)\n",
    "    f_rename = filename + str(count)\n",
    "\n",
    "    if f_ext == '.webp':\n",
    "      img = Image.open(f).convert('RGB')\n",
    "      img.save(f_rename + '.jpg', 'jpeg')\n",
    "      os.remove(f)\n",
    "      delete_webp += 1\n",
    "\n",
    "    else:\n",
    "      new_name = f'{f_rename}{f_ext}'\n",
    "      os.rename(f, new_name)\n",
    "\n",
    "  print( f\"{delete_mp4} .mp4 files were deleted\")\n",
    "  print( f\"{delete_webp} .webp files were converted to jpg\")\n",
    "\n",
    "else:\n",
    "  print('See you arround')"
   ]
  },
  {
   "cell_type": "code",
   "execution_count": null,
   "id": "9ea33f73-6067-4404-96bb-dd817ad7372b",
   "metadata": {},
   "outputs": [
    {
     "name": "stdout",
     "output_type": "stream",
     "text": [
      "242 pictures moved\n"
     ]
    }
   ],
   "source": [
    "# Once interesting pictures are labeled, move pictures with a .txt file to another folder\n",
    "original_path = '/home/loyk/Bureau/Projet/data/pic/'\n",
    "new_path = '/home/loyk/Bureau/Projet/data/pic_cleaned/'\n",
    "\n",
    "os.chdir(original_path)\n",
    "\n",
    "count = 0\n",
    "\n",
    "for f in os.listdir():\n",
    "    f_name, f_ext = os.path.splitext(f)\n",
    "    \n",
    "    if f == 'classes.txt':\n",
    "        shutil.copy(f\"{original_path}classes.txt\", f\"{new_path}classes.txt\")\n",
    "        \n",
    "    if f_ext == '.txt':\n",
    "        pass\n",
    "    \n",
    "    if f_ext == '.jpg':\n",
    "        if exists(f\"{original_path}{f_name}.txt\"):\n",
    "            shutil.move(f\"{original_path}{f_name}.jpg\", f\"{new_path}{f_name}.jpg\")\n",
    "            shutil.move(f\"{original_path}{f_name}.txt\", f\"{new_path}{f_name}.txt\")\n",
    "            count+=1\n",
    "            \n",
    "print(f\"{count} pictures moved\")            "
   ]
  },
  {
   "cell_type": "code",
   "execution_count": 69,
   "id": "2cfc1a35-8f8f-4915-86e5-fa22dd0957e4",
   "metadata": {},
   "outputs": [],
   "source": [
    "def count_labels(labels_folder_path, classes_path):\n",
    "    os.chdir(labels_folder_path)\n",
    "    ingredients = []\n",
    "    ingredients_count = {}\n",
    "\n",
    "    for file in os.listdir():\n",
    "        file_name, file_ext = os.path.splitext(file)\n",
    "\n",
    "        if file == 'classes.txt':\n",
    "            pass\n",
    "\n",
    "        elif '.txt' == file_ext:\n",
    "            opened = open(file)\n",
    "\n",
    "            for line in opened:\n",
    "                if line[0] == ' ':\n",
    "                    pass\n",
    "                \n",
    "                else:\n",
    "                    ingredients.append(line[:2].rstrip())\n",
    "\n",
    "    for ingredient in ingredients:\n",
    "        if ingredient not in ingredients_count:\n",
    "            ingredients_count.update({ingredient: 1})\n",
    "\n",
    "        elif ingredients_count[ingredient] is not None:\n",
    "            ingredients_count[ingredient] +=1\n",
    "\n",
    "    opened = open(classes_path)\n",
    "    classes = {}\n",
    "    \n",
    "    for count, line in enumerate(opened):\n",
    "        line = line.rstrip()\n",
    "        classes.update({line: count})\n",
    "\n",
    "    classes\n",
    "    result = {}\n",
    "    \n",
    "    for ingredient in classes:\n",
    "        for ingredient_count in ingredients_count:\n",
    "            if int(classes[ingredient]) == int(ingredient_count):\n",
    "                result.update({ingredient: ingredients_count[ingredient_count]})\n",
    "\n",
    "    return(result)"
   ]
  },
  {
   "cell_type": "code",
   "execution_count": 70,
   "id": "8ba52fd4-776d-44c4-b6f5-efda722a0c42",
   "metadata": {},
   "outputs": [
    {
     "data": {
      "text/plain": [
       "{'egg': 466,\n",
       " 'cucumber': 5,\n",
       " 'tomato': 106,\n",
       " 'fish': 12,\n",
       " 'olive': 2,\n",
       " 'avocado': 103,\n",
       " 'strawberry': 32}"
      ]
     },
     "execution_count": 70,
     "metadata": {},
     "output_type": "execute_result"
    }
   ],
   "source": [
    "count_labels_result = count_labels('/home/loyk/Bureau/Projet/data/pic_cleaned', '/home/loyk/Bureau/Projet/data/pic_cleaned/classes.txt')\n",
    "count_labels_result"
   ]
  },
  {
   "cell_type": "code",
   "execution_count": 71,
   "id": "789d647e-9d96-4ed2-a53f-3be5e7e7f2b3",
   "metadata": {},
   "outputs": [
    {
     "data": {
      "image/png": "[encoded data removed]",
      "text/plain": [
       "<Figure size 640x480 with 1 Axes>"
      ]
     },
     "metadata": {},
     "output_type": "display_data"
    }
   ],
   "source": [
    "plt.bar(range(len(count_labels_result)), list(count_labels_result.values()))\n",
    "plt.xticks(range(len(count_labels_result)), list(count_labels_result.keys()))\n",
    "\n",
    "for i, v in enumerate(count_labels_result.values()):\n",
    "    plt.text(i, v+5, str(v), ha='center', fontweight='bold')\n",
    "\n",
    "plt.title('Quantity per label')\n",
    "plt.xlabel('Labels')\n",
    "plt.ylabel('Quantity')\n",
    "\n",
    "plt.show()"
   ]
  },
  {
   "cell_type": "code",
   "execution_count": 72,
   "id": "1632bd96-ba29-447e-a668-24d5ac526a4c",
   "metadata": {},
   "outputs": [
    {
     "name": "stdout",
     "output_type": "stream",
     "text": [
      "{'pic836': {'egg': 2, 'avocado': 1}, 'pic167': {'egg': 1}, 'pic40': {'egg': 4}, 'pic219': {'egg': 3, 'avocado': 1}, 'pic374': {'egg': 2}, 'pic977': {'egg': 1, 'avocado': 1}, 'pic207': {'egg': 2}, 'pic659': {'egg': 2, 'avocado': 1}, 'pic74': {'egg': 2}, 'pic677': {'egg': 2, 'tomato': 4}, 'pic791': {'egg': 2}, 'pic89': {'egg': 2}, 'pic1035': {'egg': 1, 'avocado': 1}, 'pic1105': {'egg': 1}, 'pic752': {'egg': 4}, 'pic71': {'egg': 4}, 'pic1024': {'egg': 1, 'avocado': 1}, 'pic945': {'egg': 1, 'strawberry': 1}, 'pic311': {'egg': 2, 'avocado': 1, 'tomato': 1}, 'pic440': {'egg': 1}, 'pic181': {'egg': 2}, 'pic223': {'egg': 2, 'tomato': 2}, 'pic1132': {'tomato': 1, 'egg': 4, 'avocado': 1}, 'pic1177': {'egg': 4}, 'pic232': {'avocado': 1}, 'pic403': {'egg': 2}, 'pic1104': {'egg': 2, 'fish': 2, 'tomato': 4, 'olive': 1}, 'pic313': {'egg': 1}, 'pic1025': {'egg': 4}, 'pic77': {'egg': 1}, 'pic996': {'avocado': 1, 'egg': 2}, 'pic878': {'egg': 2, 'avocado': 1, 'fish': 3}, 'pic333': {'egg': 1, 'tomato': 1, 'avocado': 1}, 'pic1058': {'egg': 4, 'fish': 1, 'olive': 1}, 'pic903': {'egg': 1, 'avocado': 1}, 'pic441': {'egg': 1}, 'pic88': {'egg': 1}, 'pic260': {'avocado': 1, 'tomato': 1, 'egg': 1}, 'pic191': {'egg': 1}, 'pic889': {'egg': 3, 'avocado': 1}, 'pic567': {'egg': 2}, 'pic434': {'avocado': 1, 'egg': 2}, 'pic338': {'egg': 1, 'avocado': 1}, 'pic525': {'egg': 2, 'avocado': 1}, 'pic175': {'egg': 1}, 'pic376': {'egg': 1}, 'pic254': {'egg': 2, 'avocado': 1}, 'pic261': {'avocado': 1, 'egg': 2}, 'pic46': {'egg': 2}, 'pic502': {'egg': 3, 'avocado': 1}, 'pic515': {'avocado': 1, 'egg': 2}, 'pic43': {'egg': 9}, 'pic764': {'egg': 2, 'strawberry': 3}, 'pic1109': {'avocado': 1, 'egg': 1}, 'pic994': {'egg': 1, 'avocado': 1}, 'pic230': {'egg': 4, 'avocado': 1, 'tomato': 1}, 'pic302': {'egg': 4}, 'pic150': {'egg': 4}, 'pic252': {'egg': 1, 'avocado': 1}, 'pic2': {'egg': 2, 'strawberry': 11, 'fish': 1}, 'pic12': {'egg': 2}, 'pic93': {'egg': 1}, 'pic629': {'egg': 4}, 'pic509': {'egg': 2, 'avocado': 1, 'tomato': 1}, 'pic213': {'egg': 4, 'tomato': 5}, 'pic432': {'egg': 4, 'tomato': 5}, 'pic243': {'egg': 4}, 'pic112': {'egg': 6}, 'pic120': {'egg': 4}, 'pic69': {'egg': 2}, 'pic767': {'egg': 4, 'tomato': 4}, 'pic180': {'egg': 4}, 'pic249': {'avocado': 1, 'egg': 1}, 'pic48': {'egg': 2}, 'pic439': {'egg': 4}, 'pic209': {'avocado': 1}, 'pic51': {'egg': 1}, 'pic458': {'egg': 2}, 'pic1103': {'egg': 1}, 'pic839': {'tomato': 5, 'egg': 2, 'avocado': 1}, 'pic20': {'egg': 2}, 'pic573': {'egg': 2}, 'pic561': {'egg': 2, 'avocado': 1, 'tomato': 2}, 'pic216': {'egg': 1, 'avocado': 1}, 'pic237': {'avocado': 1, 'tomato': 5}, 'pic984': {'egg': 2, 'avocado': 1, 'strawberry': 5}, 'pic185': {'egg': 2}, 'pic941': {'egg': 2, 'avocado': 1, 'tomato': 3}, 'pic1161': {'avocado': 1, 'egg': 1}, 'pic431': {'egg': 6}, 'pic605': {'egg': 1, 'tomato': 1}, 'pic762': {'egg': 1, 'avocado': 2}, 'pic54': {'egg': 2}, 'pic389': {'egg': 2}, 'pic863': {'egg': 4}, 'pic1070': {'avocado': 1, 'egg': 2, 'tomato': 1}, 'pic255': {'avocado': 1}, 'pic10': {'egg': 4}, 'pic318': {'egg': 1, 'avocado': 1}, 'pic778': {'egg': 4, 'tomato': 1}, 'pic31': {'egg': 1}, 'pic278': {'egg': 2, 'tomato': 1, 'avocado': 1}, 'pic845': {'egg': 4, 'avocado': 1}, 'pic1210': {'egg': 1, 'avocado': 1, 'tomato': 1}, 'pic611': {'egg': 2}, 'pic121': {'egg': 3}, 'pic936': {'egg': 2, 'avocado': 1, 'tomato': 1}, 'pic265': {'egg': 2}, 'pic282': {'egg': 3, 'avocado': 1}, 'pic814': {'egg': 1, 'avocado': 1, 'strawberry': 1}, 'pic453': {'egg': 2}, 'pic620': {'avocado': 1, 'egg': 2}, 'pic621': {'tomato': 2, 'egg': 2}, 'pic998': {'egg': 2, 'avocado': 1, 'tomato': 1}, 'pic364': {'egg': 4, 'avocado': 1, 'tomato': 2}, 'pic9': {'egg': 4}, 'pic771': {'egg': 2}, 'pic183': {'egg': 1}, 'pic320': {'egg': 2}, 'pic872': {'egg': 2}, 'pic713': {'egg': 1, 'tomato': 4}, 'pic395': {'tomato': 2, 'avocado': 1, 'egg': 2}, 'pic448': {'egg': 1}, 'pic543': {'egg': 1, 'avocado': 1}, 'pic21': {'egg': 2}, 'pic203': {'egg': 3, 'avocado': 1}, 'pic485': {'egg': 4, 'avocado': 1}, 'pic198': {'egg': 4}, 'pic208': {'egg': 1, 'avocado': 1}, 'pic1073': {'egg': 2}, 'pic188': {'egg': 1}, 'pic626': {'egg': 2}, 'pic736': {'cucumber': 5, 'fish': 1, 'avocado': 1, 'tomato': 4, 'egg': 4}, 'pic942': {'avocado': 1, 'egg': 2, 'tomato': 2}, 'pic1001': {'egg': 2, 'avocado': 1, 'tomato': 1}, 'pic844': {'avocado': 1, 'egg': 1}, 'pic666': {'egg': 4, 'avocado': 2}, 'pic613': {'egg': 2}, 'pic386': {'egg': 1, 'avocado': 1, 'tomato': 1}, 'pic710': {'avocado': 1, 'egg': 4, 'tomato': 5}, 'pic656': {'egg': 4}, 'pic981': {'egg': 4, 'avocado': 2}, 'pic259': {'egg': 2, 'avocado': 1, 'tomato': 2}, 'pic948': {'tomato': 1, 'egg': 2, 'avocado': 1}, 'pic1036': {'strawberry': 4, 'egg': 5}, 'pic194': {'egg': 2}, 'pic585': {'egg': 2}, 'pic849': {'avocado': 1, 'egg': 2}, 'pic55': {'egg': 4}, 'pic215': {'avocado': 1, 'tomato': 7}, 'pic139': {'egg': 1}, 'pic383': {'egg': 2}, 'pic460': {'egg': 3}, 'pic79': {'egg': 2}, 'pic1159': {'egg': 1, 'avocado': 1, 'tomato': 3}, 'pic601': {'egg': 2}, 'pic595': {'egg': 2, 'avocado': 1}, 'pic372': {'egg': 2, 'tomato': 2}, 'pic716': {'egg': 4, 'avocado': 1}, 'pic976': {'egg': 4}, 'pic476': {'egg': 2}, 'pic286': {'egg': 2, 'avocado': 1}, 'pic1015': {'egg': 2, 'avocado': 1}, 'pic131': {'egg': 1}, 'pic273': {'egg': 2, 'avocado': 1, 'tomato': 1}, 'pic798': {'fish': 1, 'avocado': 1, 'egg': 1}, 'pic1029': {'egg': 4, 'strawberry': 2}, 'pic334': {'egg': 2, 'tomato': 1}, 'pic1110': {'egg': 2, 'avocado': 1}, 'pic206': {'egg': 2, 'avocado': 2}, 'pic516': {'egg': 8}, 'pic608': {'egg': 4, 'avocado': 3}, 'pic625': {'egg': 1, 'avocado': 1, 'tomato': 1}, 'pic1065': {'egg': 1}, 'pic228': {'egg': 3}, 'pic1187': {'egg': 4, 'avocado': 1}, 'pic173': {'egg': 2}, 'pic1243': {'avocado': 1, 'fish': 1, 'egg': 1, 'tomato': 2}, 'pic107': {'egg': 4}, 'pic548': {'egg': 2}, 'pic210': {'egg': 1, 'tomato': 8}, 'pic1221': {'egg': 1, 'avocado': 1, 'strawberry': 5}, 'pic997': {'egg': 2}, 'pic749': {'avocado': 1, 'egg': 4, 'fish': 1}, 'pic341': {'egg': 1, 'avocado': 1}, 'pic363': {'egg': 4}, 'pic125': {'egg': 4}, 'pic141': {'egg': 2}, 'pic171': {'egg': 1}, 'pic159': {'egg': 2}, 'pic932': {'egg': 1, 'avocado': 1, 'fish': 1}, 'pic239': {'egg': 2}, 'pic292': {'egg': 1, 'avocado': 2}, 'pic442': {'egg': 9}, 'pic751': {'egg': 2, 'avocado': 7}, 'pic1030': {'egg': 1}, 'pic987': {'egg': 1}, 'pic967': {'egg': 4, 'avocado': 1}, 'pic512': {'egg': 4, 'avocado': 1}, 'pic527': {'egg': 4, 'avocado': 2}, 'pic234': {'tomato': 1}, 'pic837': {'tomato': 1, 'egg': 3}, 'pic813': {'egg': 2, 'tomato': 1, 'avocado': 1}}\n"
     ]
    }
   ],
   "source": [
    "# Make a dictionary listing all the labels in each photo\n",
    "pictures_dict = {}\n",
    "classes = ['egg', 'cucumber', 'tomato', 'fish', 'olive', 'avocado', 'strawberry']\n",
    "\n",
    "for file in os.listdir():\n",
    "    file_name, file_ext = os.path.splitext(file)\n",
    "    \n",
    "    if file == 'classes.txt':\n",
    "        pass\n",
    "    \n",
    "    elif '.txt' == file_ext:\n",
    "        opened = open(file)\n",
    "        \n",
    "        for line in opened:\n",
    "            label = int(line[:2].rstrip())\n",
    "            \n",
    "            if line[0] == ' ':\n",
    "                pass\n",
    "            \n",
    "            else:\n",
    "                label = int(line[:2].rstrip())\n",
    "                \n",
    "                if file_name not in pictures_dict:\n",
    "                    pictures_dict[file_name] = {classes[label]: 1}\n",
    "                    \n",
    "                else:\n",
    "                    if classes[label] in pictures_dict[file_name]:\n",
    "                        pictures_dict[file_name][classes[label]] += 1\n",
    "                        \n",
    "                    else:\n",
    "                        pictures_dict[file_name][classes[label]] = 1\n",
    "                        \n",
    "print(pictures_dict)"
   ]
  },
  {
   "cell_type": "code",
   "execution_count": 73,
   "id": "a74d6395-05b0-40bc-a89b-af9f34842e0b",
   "metadata": {},
   "outputs": [
    {
     "data": {
      "text/plain": [
       "{'egg': 197,\n",
       " 'avocado': 89,\n",
       " 'tomato': 45,\n",
       " 'strawberry': 8,\n",
       " 'fish': 9,\n",
       " 'olive': 2,\n",
       " 'cucumber': 1}"
      ]
     },
     "execution_count": 73,
     "metadata": {},
     "output_type": "execute_result"
    }
   ],
   "source": [
    "pictures_count = {}\n",
    "\n",
    "for picture in pictures_dict:\n",
    "    for ingredient in pictures_dict[picture]:\n",
    "        if ingredient in pictures_count:\n",
    "            pictures_count[ingredient] += 1\n",
    "            \n",
    "        else:\n",
    "            pictures_count[ingredient] = 1\n",
    "            \n",
    "pictures_count"
   ]
  },
  {
   "cell_type": "code",
   "execution_count": 74,
   "id": "e6119150-5dbe-4065-bc84-0588a1fa7ef3",
   "metadata": {},
   "outputs": [
    {
     "data": {
      "image/png": "[encoded data removed]",
      "text/plain": [
       "<Figure size 640x480 with 1 Axes>"
      ]
     },
     "metadata": {},
     "output_type": "display_data"
    }
   ],
   "source": [
    "total_pictures = len(pictures_dict)\n",
    " \n",
    "plt.bar(range(len(pictures_count)), list(pictures_count.values()))\n",
    "plt.xticks(range(len(pictures_count)), list(pictures_count.keys()))\n",
    "\n",
    "for i, v in enumerate(pictures_count.values()):\n",
    "    plt.text(i, v+2, str(v), ha='center', fontweight='bold')\n",
    "\n",
    "plt.title('Presence of label in dataset')\n",
    "plt.xlabel('Labels')\n",
    "plt.ylabel('Pictures')\n",
    "plt.legend([f\"Total Pictures: {total_pictures}\"]) \n",
    "plt.show()"
   ]
  },
  {
   "cell_type": "code",
   "execution_count": 75,
   "id": "0945253e-e7da-4e80-9b3a-9689bd0bf12c",
   "metadata": {},
   "outputs": [
    {
     "data": {
      "text/plain": [
       "{'egg': 466,\n",
       " 'cucumber': 5,\n",
       " 'tomato': 106,\n",
       " 'fish': 12,\n",
       " 'olive': 2,\n",
       " 'avocado': 103,\n",
       " 'strawberry': 32}"
      ]
     },
     "execution_count": 75,
     "metadata": {},
     "output_type": "execute_result"
    }
   ],
   "source": [
    "count_labels_result"
   ]
  },
  {
   "cell_type": "code",
   "execution_count": 76,
   "id": "9e9fef38-c004-41bf-afe9-805b06f73bd5",
   "metadata": {},
   "outputs": [
    {
     "data": {
      "text/plain": [
       "{'egg': 197,\n",
       " 'avocado': 89,\n",
       " 'tomato': 45,\n",
       " 'strawberry': 8,\n",
       " 'fish': 9,\n",
       " 'olive': 2,\n",
       " 'cucumber': 1}"
      ]
     },
     "execution_count": 76,
     "metadata": {},
     "output_type": "execute_result"
    }
   ],
   "source": [
    "pictures_count"
   ]
  },
  {
   "cell_type": "code",
   "execution_count": 77,
   "id": "a5d39b6e-f7a9-4278-a7c4-a90ac449cbe4",
   "metadata": {},
   "outputs": [
    {
     "name": "stdout",
     "output_type": "stream",
     "text": [
      "372.8 labels to train egg\n",
      "4.0 labels to train cucumber\n",
      "84.80000000000001 labels to train tomato\n",
      "9.600000000000001 labels to train fish\n",
      "1.6 labels to train olive\n",
      "82.4 labels to train avocado\n",
      "25.6 labels to train strawberry\n"
     ]
    }
   ],
   "source": [
    "# Calculate what 80% of each label corresponds to\n",
    "for k in count_labels_result:\n",
    "    print(f\"{count_labels_result[k]*0.8} labels to train {k}\")"
   ]
  },
  {
   "cell_type": "code",
   "execution_count": 42,
   "id": "c57639d4-4381-45f0-998d-a11135bbc39b",
   "metadata": {},
   "outputs": [
    {
     "name": "stdout",
     "output_type": "stream",
     "text": [
      "157 pictures and labels moved to train folder\n"
     ]
    }
   ],
   "source": [
    "# If I take 80% of the egg label, according to the law of large numbers the other labels should also be around 80%\n",
    "egg_count = 0\n",
    "count = 0\n",
    "original_path = '/home/loyk/Bureau/Projet/data/pic_cleaned_copy/'\n",
    "new_path = '/home/loyk/Bureau/Projet/data/dataset_copy/train/'\n",
    "\n",
    "for picture in pictures_dict:\n",
    "    if 'egg'in pictures_dict[picture]: \n",
    "        if egg_count <= 372 and (pictures_dict[picture]['egg'] + egg_count)<= 372:\n",
    "            egg_count += pictures_dict[picture]['egg']\n",
    "            shutil.move(f\"{original_path}{picture}.jpg\", f\"{new_path}pictures/{picture}.jpg\")\n",
    "            shutil.move(f\"{original_path}{picture}.txt\", f\"{new_path}labels/{picture}.txt\")\n",
    "            count += 1\n",
    "            \n",
    "print(f\"{count} pictures and labels moved to train folder\")"
   ]
  },
  {
   "cell_type": "code",
   "execution_count": 79,
   "id": "aea97f17-5148-4a8f-aae8-1be7b7c6e305",
   "metadata": {},
   "outputs": [
    {
     "data": {
      "text/plain": [
       "{'egg': 372,\n",
       " 'cucumber': 5,\n",
       " 'tomato': 68,\n",
       " 'fish': 10,\n",
       " 'olive': 2,\n",
       " 'avocado': 77,\n",
       " 'strawberry': 20}"
      ]
     },
     "execution_count": 79,
     "metadata": {},
     "output_type": "execute_result"
    }
   ],
   "source": [
    "# Check if all the train labels corresponds approximately to 80%\n",
    "count_labels('/home/loyk/Bureau/Projet/data/dataset/train/labels', '/home/loyk/Bureau/Projet/data/pic_cleaned/classes.txt')"
   ]
  },
  {
   "cell_type": "code",
   "execution_count": 44,
   "id": "eac8de61-549d-49bb-bb99-0afbe2eb97e0",
   "metadata": {},
   "outputs": [
    {
     "name": "stdout",
     "output_type": "stream",
     "text": [
      "46 pictures left\n"
     ]
    }
   ],
   "source": [
    "os.chdir('/home/loyk/Bureau/Projet/data/pic_cleaned_copy')\n",
    "count=0\n",
    "\n",
    "for file in os.listdir():\n",
    "    file_name, file_ext = os.path.splitext(file)\n",
    "    \n",
    "    if file_ext == '.jpg':\n",
    "        count+=1\n",
    "        \n",
    "print(f\"{count} pictures left\")"
   ]
  },
  {
   "cell_type": "code",
   "execution_count": 46,
   "id": "9c7be41b-57e3-47cf-831d-63314540c90f",
   "metadata": {},
   "outputs": [
    {
     "name": "stdout",
     "output_type": "stream",
     "text": [
      "23 pictures and labels moved to test folder\n",
      "23 pictures and labels moved to val folder\n"
     ]
    }
   ],
   "source": [
    "folders = ['test', 'val']\n",
    "original_path = '/home/loyk/Bureau/Projet/data/pic_cleaned/'\n",
    "\n",
    "for folder in folders:  \n",
    "    new_path = f\"/home/loyk/Bureau/Projet/data/dataset/{folder}/\"\n",
    "    count=0\n",
    "    \n",
    "    for file in os.listdir():\n",
    "        file_name, file_ext = os.path.splitext(file)\n",
    "\n",
    "        if file_ext == '.jpg' and count <= 22:\n",
    "            count+=1\n",
    "            shutil.move(f\"{original_path}{file_name}.jpg\", f\"{new_path}pictures/{file_name}.jpg\")\n",
    "            shutil.move(f\"{original_path}{file_name}.txt\", f\"{new_path}labels/{file_name}.txt\")\n",
    "\n",
    "    print(f\"{count} pictures and labels moved to {folder} folder\")"
   ]
  }
 ],
 "metadata": {
  "kernelspec": {
   "display_name": "Python 3 (ipykernel)",
   "language": "python",
   "name": "python3"
  },
  "language_info": {
   "codemirror_mode": {
    "name": "ipython",
    "version": 3
   },
   "file_extension": ".py",
   "mimetype": "text/x-python",
   "name": "python",
   "nbconvert_exporter": "python",
   "pygments_lexer": "ipython3",
   "version": "3.9.16"
  }
 },
 "nbformat": 4,
 "nbformat_minor": 5
}
